{
 "cells": [
  {
   "cell_type": "markdown",
   "metadata": {},
   "source": [
    "## 解析(定位)网页数据\n",
    "将需要的data从网页中提取出来，常用的库有：\n",
    "- pyquery库\n",
    "- re库\n",
    "- json库\n",
    "\n",
    "\n",
    "html就像家族树，有层级结构\n",
    "![](img/家族树.jpeg)"
   ]
  },
  {
   "cell_type": "markdown",
   "metadata": {},
   "source": [
    "**我们先看一个html文本**\n",
    "\n",
    "[**data/测试网页.html**](data/测试网页.html)"
   ]
  },
  {
   "cell_type": "markdown",
   "metadata": {},
   "source": [
    "### PyQuery库\n",
    "pyquery库是jQuery的Python实现，能够以jQuery的语法来操作解析 HTML 文档，易用性和解析速度都很好。\n",
    "\n",
    "PyQuery库官方文档  https://pythonhosted.org/pyquery/index.html\n",
    "\n",
    "本文章节：\n",
    "\n",
    "1. 初始化为PyQuery对象\n",
    "2. 常用的CCS选择器\n",
    "3. 伪类选择器\n",
    "4. 查找标签\n",
    "5. 获取标签信息\n",
    "6. 高级方法\n",
    "\n",
    "### 一、初始化为PyQuery对象"
   ]
  },
  {
   "cell_type": "code",
   "execution_count": 1,
   "metadata": {},
   "outputs": [],
   "source": [
    "html_string = \"\"\"\n",
    "<html lang=\"en\">\n",
    "    <head>\n",
    "        简单好用的\n",
    "        <title>PyQuery</title>\n",
    "    </head>\n",
    "    <body>\n",
    "        <ul id=\"container\">\n",
    "            <li class=\"object-1\" title=\"编程语言\">Python</li>\n",
    "            <li class=\"object-2\" title=\"夸张的编程语言\">大法</li>\n",
    "            <li class=\"object-3\" title=\"评价\">好</li>\n",
    "        </ul>\n",
    "    </body>\n",
    "</html>\n",
    "\"\"\""
   ]
  },
  {
   "cell_type": "code",
   "execution_count": 2,
   "metadata": {},
   "outputs": [
    {
     "data": {
      "text/plain": [
       "'\\n<html lang=\"en\">\\n    <head>\\n        简单好用的\\n        <title>PyQuery</title>\\n    </head>\\n    <body>\\n        <ul id=\"container\">\\n            <li class=\"object-1\" title=\"编程语言\">Python</li>\\n            <li class=\"object-2\" title=\"夸张的编程语言\">大法</li>\\n            <li class=\"object-3\" title=\"评价\">好</li>\\n        </ul>\\n    </body>\\n</html>\\n'"
      ]
     },
     "execution_count": 2,
     "metadata": {},
     "output_type": "execute_result"
    }
   ],
   "source": [
    "html_string"
   ]
  },
  {
   "cell_type": "code",
   "execution_count": 3,
   "metadata": {},
   "outputs": [
    {
     "name": "stdout",
     "output_type": "stream",
     "text": [
      "<class 'pyquery.pyquery.PyQuery'>\n",
      "<html lang=\"en\">\n",
      "    <head>\n",
      "        简单好用的\n",
      "        <title>PyQuery</title>\n",
      "    </head>\n",
      "    <body>\n",
      "        <ul id=\"container\">\n",
      "            <li class=\"object-1\" title=\"编程语言\">Python</li>\n",
      "            <li class=\"object-2\" title=\"夸张的编程语言\">大法</li>\n",
      "            <li class=\"object-3\" title=\"评价\">好</li>\n",
      "        </ul>\n",
      "    </body>\n",
      "</html>\n"
     ]
    }
   ],
   "source": [
    "from pyquery import PyQuery\n",
    "\n",
    "doc = PyQuery(html_string)\n",
    "print(type(doc))\n",
    "print(doc)"
   ]
  },
  {
   "cell_type": "markdown",
   "metadata": {},
   "source": [
    "### 二、常用的CCS选择器【重点】\n",
    "为了定位html中对应的节点及其属性和含有的信息，我们需要使用选择器。\n",
    "\n",
    "\n",
    "\n",
    "|css选择器|例子|解释|\n",
    "|---|---|---|\n",
    "|``.class``|``.intro``|选出``class=\"intro\"``的节点|\n",
    "|``#id``|``#firstname``|选出``id=\"firstname\"``的节点|\n",
    "|element|p|选出所有p标签的节点|\n",
    "|element element|``div p``|选出div节点后辈p的所有节点|\n",
    "|``*``|``#firstname``|选出``id=\"firstname\"``的节点|\n",
    "|``[attribute]``|``[target]``|选出带有 target 属性所有节点|\n",
    "|``[attribute=value]``|``[target=_blank]``|选出 ``target=\"_blank\"`` 的所有节点|\n",
    "\n",
    "\n",
    "常用的css选择器主要有 .class  #id  element 这三种，本文只讲class、id 和lement最常见的css选择器。"
   ]
  },
  {
   "cell_type": "markdown",
   "metadata": {},
   "source": [
    "#### 2.1 打印id为container的标签"
   ]
  },
  {
   "cell_type": "code",
   "execution_count": 4,
   "metadata": {},
   "outputs": [
    {
     "data": {
      "text/plain": [
       "[<li.object-1>, <li.object-2>, <li.object-3>]"
      ]
     },
     "execution_count": 4,
     "metadata": {},
     "output_type": "execute_result"
    }
   ],
   "source": [
    "doc('li')"
   ]
  },
  {
   "cell_type": "code",
   "execution_count": 5,
   "metadata": {},
   "outputs": [
    {
     "data": {
      "text/plain": [
       "[<ul#container>]"
      ]
     },
     "execution_count": 5,
     "metadata": {},
     "output_type": "execute_result"
    }
   ],
   "source": [
    "doc('#container')"
   ]
  },
  {
   "cell_type": "code",
   "execution_count": 6,
   "metadata": {},
   "outputs": [
    {
     "data": {
      "text/plain": [
       "[<li.object-1>]"
      ]
     },
     "execution_count": 6,
     "metadata": {},
     "output_type": "execute_result"
    }
   ],
   "source": [
    "doc('.object-1')"
   ]
  },
  {
   "cell_type": "markdown",
   "metadata": {},
   "source": [
    "#### 2.2 打印class为object-1的标签"
   ]
  },
  {
   "cell_type": "code",
   "execution_count": 5,
   "metadata": {
    "collapsed": true
   },
   "outputs": [
    {
     "name": "stdout",
     "output_type": "stream",
     "text": [
      "<li class=\"object-1\" title=\"&#x7F16;&#x7A0B;&#x8BED;&#x8A00;\">Python</li>\n",
      "            \n"
     ]
    }
   ],
   "source": [
    "print(doc('.object-1'))"
   ]
  },
  {
   "cell_type": "markdown",
   "metadata": {},
   "source": [
    "打印标签名为body的标签"
   ]
  },
  {
   "cell_type": "code",
   "execution_count": 6,
   "metadata": {
    "collapsed": true
   },
   "outputs": [
    {
     "name": "stdout",
     "output_type": "stream",
     "text": [
      "<body>\n",
      "        <ul id=\"container\">\n",
      "            <li class=\"object-1\" title=\"编程语言\">Python</li>\n",
      "            <li class=\"object-2\" title=\"夸张的编程语言\">大法</li>\n",
      "            <li class=\"object-3\" title=\"评价\">好</li>\n",
      "        </ul>\n",
      "    </body>\n",
      "\n"
     ]
    }
   ],
   "source": [
    "print(doc('body'))"
   ]
  },
  {
   "cell_type": "markdown",
   "metadata": {},
   "source": [
    "#### 2.3 多种css选择器使用\n",
    "选出ul节点，有很多种表达方式。比如ul节点（该ul节点中的属性键值对为id=container）"
   ]
  },
  {
   "cell_type": "code",
   "execution_count": 7,
   "metadata": {},
   "outputs": [
    {
     "name": "stdout",
     "output_type": "stream",
     "text": [
      "<ul id=\"container\">\n",
      "            <li class=\"object-1\" title=\"编程语言\">Python</li>\n",
      "            <li class=\"object-2\" title=\"夸张的编程语言\">大法</li>\n",
      "            <li class=\"object-3\" title=\"评价\">好</li>\n",
      "        </ul>\n",
      "    \n"
     ]
    }
   ],
   "source": [
    "print(doc(\"ul[id=container]\"))"
   ]
  },
  {
   "cell_type": "code",
   "execution_count": 13,
   "metadata": {},
   "outputs": [
    {
     "data": {
      "text/plain": [
       "[<ul#container>]"
      ]
     },
     "execution_count": 13,
     "metadata": {},
     "output_type": "execute_result"
    }
   ],
   "source": [
    "doc('html body ul')"
   ]
  },
  {
   "cell_type": "code",
   "execution_count": 12,
   "metadata": {},
   "outputs": [
    {
     "data": {
      "text/plain": [
       "[<ul#container>]"
      ]
     },
     "execution_count": 12,
     "metadata": {},
     "output_type": "execute_result"
    }
   ],
   "source": [
    "doc('html body #container')"
   ]
  },
  {
   "cell_type": "code",
   "execution_count": 11,
   "metadata": {},
   "outputs": [
    {
     "data": {
      "text/plain": [
       "[<li.object-1>, <li.object-2>, <li.object-3>]"
      ]
     },
     "execution_count": 11,
     "metadata": {},
     "output_type": "execute_result"
    }
   ],
   "source": [
    "doc('html body ul li')"
   ]
  },
  {
   "cell_type": "markdown",
   "metadata": {},
   "source": [
    "### 三、伪类选择器【了解】\n",
    "极少数情况下，css选择器还是无法对我们需要的数据进行定位，我们还需要使用伪类选择器。\n",
    "\n",
    "|css选择器|例子|解释|\n",
    "|---|---|---|\n",
    "|``:nth-child(n)``|``p:nth-child(2)``|找到第二个p节点标签|\n",
    "|``:first-child``|``p:first-child``|找到第一个p节点标签|\n",
    "|``:last-child``|``p:last-child``|找到最后一个p标签|\n",
    "|``:gt(n)``|``p:gt(2)``|找到第二个以后标签|\n",
    "|``:lt(n)``|``p:lt(5)``|找到第5个以前标签|\n",
    "|``:contains()``|``p:contains('second')\t``|找到包含second文本的p标签\n",
    "\n",
    "\n",
    "这里只需要了解即可，不用太下功夫联系"
   ]
  },
  {
   "cell_type": "code",
   "execution_count": 14,
   "metadata": {},
   "outputs": [
    {
     "name": "stdout",
     "output_type": "stream",
     "text": [
      "<html lang=\"en\">\n",
      "    <head>\n",
      "        简单好用的\n",
      "        <title>PyQuery</title>\n",
      "    </head>\n",
      "    <body>\n",
      "        <ul id=\"container\">\n",
      "            <li class=\"object-1\" title=\"编程语言\">Python</li>\n",
      "            <li class=\"object-2\" title=\"夸张的编程语言\">大法</li>\n",
      "            <li class=\"object-3\" title=\"评价\">好</li>\n",
      "        </ul>\n",
      "    </body>\n",
      "</html>\n"
     ]
    }
   ],
   "source": [
    "pseudo_html  = \"\"\"\n",
    "<html lang=\"en\">\n",
    "    <head>\n",
    "        简单好用的\n",
    "        <title>PyQuery</title>\n",
    "    </head>\n",
    "    <body>\n",
    "        <ul id=\"container\">\n",
    "            <li class=\"object-1\" title=\"编程语言\">Python</li>\n",
    "            <li class=\"object-2\" title=\"夸张的编程语言\">大法</li>\n",
    "            <li class=\"object-3\" title=\"评价\">好</li>\n",
    "        </ul>\n",
    "    </body>\n",
    "</html>\n",
    "\"\"\"\n",
    "\n",
    "\n",
    "pseudo_doc = PyQuery(pseudo_html)\n",
    "print(pseudo_doc)"
   ]
  },
  {
   "cell_type": "markdown",
   "metadata": {},
   "source": [
    "#### 3.1 伪类nth"
   ]
  },
  {
   "cell_type": "code",
   "execution_count": 16,
   "metadata": {},
   "outputs": [
    {
     "name": "stdout",
     "output_type": "stream",
     "text": [
      "<li class=\"object-2\" title=\"&#x5938;&#x5F20;&#x7684;&#x7F16;&#x7A0B;&#x8BED;&#x8A00;\">大法</li>\n",
      "            \n"
     ]
    }
   ],
   "source": [
    "print(pseudo_doc('li:nth-child(2)'))"
   ]
  },
  {
   "cell_type": "code",
   "execution_count": 17,
   "metadata": {},
   "outputs": [
    {
     "name": "stdout",
     "output_type": "stream",
     "text": [
      "夸张的编程语言\n"
     ]
    }
   ],
   "source": [
    "# html看起来奇怪，解析出来后汉字是正常的\n",
    "print(pseudo_doc('li:nth-child(2)').attr('title'))"
   ]
  },
  {
   "cell_type": "markdown",
   "metadata": {},
   "source": [
    "#### 3.2 contains"
   ]
  },
  {
   "cell_type": "code",
   "execution_count": 18,
   "metadata": {},
   "outputs": [
    {
     "name": "stdout",
     "output_type": "stream",
     "text": [
      "<li class=\"object-1\" title=\"&#x7F16;&#x7A0B;&#x8BED;&#x8A00;\">Python</li>\n",
      "            \n"
     ]
    }
   ],
   "source": [
    "#找到含有Python的li标签\n",
    "print(pseudo_doc(\"li:contains('Python')\"))\n"
   ]
  },
  {
   "cell_type": "markdown",
   "metadata": {},
   "source": [
    "### 四、查找标签【重点】\n",
    "PyQuery对象拥有很多实用的定位方法\n",
    "\n",
    "|PyQuery对象方法|功能|\n",
    "|---|---|\n",
    "|.items(selector)|迭代每一个element，返回的是PyQuery对象|\n",
    "|.find(selector)|找到selector的节点|\n",
    "|.eq(index)|获得第index个节点|\n",
    "|.text()|获得节点内的文本|\n",
    "|.attr(属性名)|获得节点属性值|\n",
    "|.html()|获得子节点的html|\n",
    "|.parents(selector)|父辈节点|\n",
    "|.siblings(selector)|兄弟节点|\n",
    "|.children(selector)|获得子节点|\n",
    "|.contents(selector)|获得子节点（带文本）|\n",
    "\n",
    "\n",
    "**常用的有items/find/eq/text/attr这五个方法**"
   ]
  },
  {
   "cell_type": "code",
   "execution_count": 19,
   "metadata": {},
   "outputs": [
    {
     "name": "stdout",
     "output_type": "stream",
     "text": [
      "<html lang=\"en\">\n",
      "    <head>\n",
      "        简单好用的\n",
      "        <title>PyQuery</title>\n",
      "    </head>\n",
      "    <body>\n",
      "        <ul id=\"container\">\n",
      "            <li class=\"object-1\" title=\"编程语言\">Python</li>\n",
      "            <li class=\"object-2\" title=\"夸张的编程语言\">大法</li>\n",
      "            <li class=\"object-3\" title=\"评价\">好</li>\n",
      "        </ul>\n",
      "    </body>\n",
      "</html>\n"
     ]
    }
   ],
   "source": [
    "print(doc)"
   ]
  },
  {
   "cell_type": "markdown",
   "metadata": {},
   "source": [
    "获得所有的li标签"
   ]
  },
  {
   "cell_type": "code",
   "execution_count": 20,
   "metadata": {},
   "outputs": [
    {
     "data": {
      "text/plain": [
       "[<li.object-1>, <li.object-2>, <li.object-3>]"
      ]
     },
     "execution_count": 20,
     "metadata": {},
     "output_type": "execute_result"
    }
   ],
   "source": [
    "doc('li')"
   ]
  },
  {
   "cell_type": "markdown",
   "metadata": {},
   "source": [
    "查看li标签的类型"
   ]
  },
  {
   "cell_type": "code",
   "execution_count": 21,
   "metadata": {},
   "outputs": [
    {
     "data": {
      "text/plain": [
       "[lxml.etree._Element, lxml.etree._Element, lxml.etree._Element]"
      ]
     },
     "execution_count": 21,
     "metadata": {},
     "output_type": "execute_result"
    }
   ],
   "source": [
    "[type(l) for l in doc('li')]"
   ]
  },
  {
   "cell_type": "markdown",
   "metadata": {},
   "source": [
    "doc('li')返回的不是PyQuery类型，而是lxml.etree._Element类型。_Element.text获取节点的文本内容"
   ]
  },
  {
   "cell_type": "code",
   "execution_count": 22,
   "metadata": {},
   "outputs": [
    {
     "data": {
      "text/plain": [
       "['Python', '大法', '好']"
      ]
     },
     "execution_count": 22,
     "metadata": {},
     "output_type": "execute_result"
    }
   ],
   "source": [
    "[l.text \n",
    " for l in doc('li')]"
   ]
  },
  {
   "cell_type": "markdown",
   "metadata": {},
   "source": [
    "获取所有的li，并以PyQuery形式逐个迭代"
   ]
  },
  {
   "cell_type": "code",
   "execution_count": 24,
   "metadata": {},
   "outputs": [
    {
     "name": "stdout",
     "output_type": "stream",
     "text": [
      "<class 'pyquery.pyquery.PyQuery'>\n",
      "<class 'pyquery.pyquery.PyQuery'>\n",
      "<class 'pyquery.pyquery.PyQuery'>\n"
     ]
    }
   ],
   "source": [
    "for item in doc.items('li'):\n",
    "    print(type(item))"
   ]
  },
  {
   "cell_type": "markdown",
   "metadata": {},
   "source": [
    "查看doc.items迭代出的对象的数据类型"
   ]
  },
  {
   "cell_type": "code",
   "execution_count": 30,
   "metadata": {},
   "outputs": [
    {
     "data": {
      "text/plain": [
       "[pyquery.pyquery.PyQuery, pyquery.pyquery.PyQuery, pyquery.pyquery.PyQuery]"
      ]
     },
     "execution_count": 30,
     "metadata": {},
     "output_type": "execute_result"
    }
   ],
   "source": [
    "[type(l) for l in doc.items('li')]"
   ]
  },
  {
   "cell_type": "code",
   "execution_count": null,
   "metadata": {},
   "outputs": [],
   "source": [
    "PyQuery类型拥有.text()方法"
   ]
  },
  {
   "cell_type": "code",
   "execution_count": 25,
   "metadata": {},
   "outputs": [
    {
     "data": {
      "text/plain": [
       "['Python', '大法', '好']"
      ]
     },
     "execution_count": 25,
     "metadata": {},
     "output_type": "execute_result"
    }
   ],
   "source": [
    "[l.text() \n",
    " for l in doc.items('li')]"
   ]
  },
  {
   "cell_type": "code",
   "execution_count": 26,
   "metadata": {},
   "outputs": [
    {
     "data": {
      "text/plain": [
       "['编程语言', '夸张的编程语言', '评价']"
      ]
     },
     "execution_count": 26,
     "metadata": {},
     "output_type": "execute_result"
    }
   ],
   "source": [
    "[l.attr('title') \n",
    " for l in doc.items('li')]"
   ]
  },
  {
   "cell_type": "markdown",
   "metadata": {},
   "source": [
    "获得doc节点的（当前为整个文档）的  id='container' 的节点"
   ]
  },
  {
   "cell_type": "code",
   "execution_count": 28,
   "metadata": {},
   "outputs": [
    {
     "name": "stdout",
     "output_type": "stream",
     "text": [
      "<ul id=\"container\">\n",
      "            <li class=\"object-1\" title=\"编程语言\">Python</li>\n",
      "            <li class=\"object-2\" title=\"夸张的编程语言\">大法</li>\n",
      "            <li class=\"object-3\" title=\"评价\">好</li>\n",
      "        </ul>\n",
      "    \n"
     ]
    }
   ],
   "source": [
    "print(doc.find('#container'))"
   ]
  },
  {
   "cell_type": "markdown",
   "metadata": {},
   "source": [
    " id='container' 的节点的子节点们"
   ]
  },
  {
   "cell_type": "markdown",
   "metadata": {},
   "source": [
    " id='container' 的节点的子节点们（节点内带字符串）"
   ]
  },
  {
   "cell_type": "code",
   "execution_count": 31,
   "metadata": {},
   "outputs": [
    {
     "name": "stdout",
     "output_type": "stream",
     "text": [
      "<li class=\"object-1\" title=\"&#x7F16;&#x7A0B;&#x8BED;&#x8A00;\">Python</li>\n",
      "            <li class=\"object-2\" title=\"&#x5938;&#x5F20;&#x7684;&#x7F16;&#x7A0B;&#x8BED;&#x8A00;\">大法</li>\n",
      "            <li class=\"object-3\" title=\"&#x8BC4;&#x4EF7;\">好</li>\n",
      "        \n"
     ]
    }
   ],
   "source": [
    "print(doc.find('#container').children())"
   ]
  },
  {
   "cell_type": "code",
   "execution_count": 33,
   "metadata": {},
   "outputs": [
    {
     "data": {
      "text/plain": [
       "['\\n            ', <Element li at 0x6794f80>, '\\n            ', <Element li at 0x65e1468>, '\\n            ', <Element li at 0x64d9378>, '\\n        ']"
      ]
     },
     "execution_count": 33,
     "metadata": {},
     "output_type": "execute_result"
    }
   ],
   "source": [
    "doc.find('#container').contents()"
   ]
  },
  {
   "cell_type": "markdown",
   "metadata": {},
   "source": [
    " id='container' 的节点的第二个子节点"
   ]
  },
  {
   "cell_type": "code",
   "execution_count": 37,
   "metadata": {},
   "outputs": [
    {
     "name": "stdout",
     "output_type": "stream",
     "text": [
      "<li class=\"object-1\" title=\"&#x7F16;&#x7A0B;&#x8BED;&#x8A00;\">Python</li>\n",
      "            \n"
     ]
    }
   ],
   "source": [
    "print(doc.find('#container').contents().eq(1))"
   ]
  },
  {
   "cell_type": "markdown",
   "metadata": {},
   "source": [
    "# 二、正则表达式 re库\n",
    "### 3.2 re库-正则表达式\n",
    "\n",
    "#### 部分正则符号\n",
    "\n",
    "|正则符号|描述|\n",
    "|---|---|\n",
    "|``( )``|标记一个子表达式的开始和结束位置。|\n",
    "|.|\t匹配除换行符 ``\\n`` 之外的任何单字符。要匹配 ``. ``，请使用 ``\\. ``。|\n",
    "|\\*|\t匹配前面的子表达式零次或多次。要匹配 \\* 字符，请使用 ``\\*``。|\n",
    "|?|\t匹配前面的子表达式零次或一次，或指明一个非贪婪限定符。要匹配 \\? 字符，请使用 \\\\?。|\n",
    "|+|匹配前面的子表达式一次或多次。要匹配 ``+ ``字符，请使用 ``\\+``。|\n",
    "|\\[|\t标记一个中括号表达式的开始。要匹配 \\[,请使用``\\\\[``。|\n",
    "|\\|\t转义字符。例如， 'n' 匹配字符 'n'。'\\n' 匹配换行符。序列 '\\\\' 匹配 \"\\\"，而 '\\(' 则匹配 \"(\"。|\n",
    "|\\d|匹配字符串中的单个数字|\n",
    "|a-zA-Z|匹配全部英文字符|\n",
    "|0-9|匹配全部数字|\n",
    "|\\s|匹配字符串中的``\\n``,``\\t``,``空格``|\n",
    "\n"
   ]
  },
  {
   "cell_type": "markdown",
   "metadata": {},
   "source": [
    "**正则符号**组成**正则表达式**，用于**匹配**需要的字符。\n",
    "\n",
    "#### re库常用方法\n",
    "\n",
    "|re库常用函数|作用|\n",
    "|---|---|\n",
    "|``re.findall(pattern, string)``|根据pattern返回匹配结果（列表）|\n",
    "|``re.split(pattern, string)`` |使用pattern分割string，返回列表        \n",
    "|``re.sub(pattern, repl, string)``|使用repl替换string中的pattern|"
   ]
  },
  {
   "cell_type": "markdown",
   "metadata": {},
   "source": [
    "### re.findall(pattern, text)\n",
    "在text中查找满足pattern条件的文本，返回列表\n",
    "\n",
    "- pattern:用正则表达式设计的匹配规则\n",
    "- text：文本数据"
   ]
  },
  {
   "cell_type": "code",
   "execution_count": null,
   "metadata": {},
   "outputs": [],
   "source": [
    "import re\n",
    "\n",
    "description = '我叫张三,今年25岁'\n",
    "\n",
    "pattern = '我叫(.*?),今年(\\d+)岁'\n",
    "name_age = re.findall(pattern, description)\n",
    "name_age"
   ]
  },
  {
   "cell_type": "code",
   "execution_count": null,
   "metadata": {},
   "outputs": [],
   "source": [
    "string = 'Good Moring，张三！'\n",
    "\n",
    "#english = re.findall('[a-zA-Z]+', string)\n",
    "english = re.findall('[a-zA-Z]+', string)\n",
    "english"
   ]
  },
  {
   "cell_type": "code",
   "execution_count": null,
   "metadata": {},
   "outputs": [],
   "source": [
    "import re\n",
    "#re.split()\n",
    "string3 = \"\"\"第一部 文化大革命如火如荼地进行，天文学家叶文洁在期间历经劫难，被带到军方绝秘计划“红岸工程”。\n",
    "             第二部 面对地球文明前所未有的危局，人类组建起同样庞大的太空舰队，同时（PDC）利用三体人思维透明的致命缺陷，制订了“面壁计划”。\n",
    "             第三部 在地球人类接近灭亡之际，只有程心和艾AA两个幸存者乘坐光速飞船离开。她们在冥王星带走人类文明的精华。\"\"\"\n",
    "\n",
    "\n",
    "titles = re.split('第[一二三]部', string3)\n",
    "\n",
    "[ t for t in titles if t!='']"
   ]
  },
  {
   "cell_type": "markdown",
   "metadata": {},
   "source": [
    "### re.split(pattern, text)\n",
    "用pattern分割text，返回列表\n",
    "\n",
    "- pattern:用正则表达式设计的匹配规则\n",
    "- text：待分割的文本数据"
   ]
  },
  {
   "cell_type": "code",
   "execution_count": null,
   "metadata": {},
   "outputs": [],
   "source": [
    "import re\n",
    "\n",
    "string2 = \"\"\"第一部 文化大革命如火如荼地进行，天文学家叶文洁在期间历经劫难，被带到军方绝秘计划“红岸工程”。\n",
    "             第二部 面对地球文明前所未有的危局，人类组建起同样庞大的太空舰队，同时（PDC）利用三体人思维透明的致命缺陷，制订了“面壁计划”。\n",
    "             第三部 在地球人类接近灭亡之际，只有程心和艾AA两个幸存者乘坐光速飞船离开。她们在冥王星带走人类文明的精华。\"\"\"\n",
    "\n",
    "#\n",
    "parts = re.split('第[一二三]+部', string2)\n",
    "\n",
    "#剔除空数据\n",
    "parts = [part \n",
    "         for part in parts \n",
    "         if part]\n",
    "parts"
   ]
  },
  {
   "cell_type": "markdown",
   "metadata": {},
   "source": [
    "### re.sub(old, new, text)\n",
    "将text中的old替换为new，返回字符串"
   ]
  },
  {
   "cell_type": "code",
   "execution_count": null,
   "metadata": {},
   "outputs": [],
   "source": [
    "import re\n",
    "\n",
    "string4 = \"\"\"第一部 文化大革命如火如荼地进行  第二部 面对地球文明前所未有的危局。 第三部 在地球人类接近灭亡之际\"\"\"\n",
    "#文化大革命  替换为  革命\n",
    "titles = re.sub('文化大革命', '革命', string4)\n",
    "\n",
    "print(titles)"
   ]
  },
  {
   "cell_type": "markdown",
   "metadata": {},
   "source": [
    "# 三、json库\n",
    "Python3 中可以使用 json 模块来对 **JSON 数据（样子像字典类型的字符串）**进行编解码，它包含了两个函数：\n",
    "\n",
    "|json库常用函数|作用|\n",
    "|---|---|\n",
    "|json.dumps()| 将 **python对象数据**编码 为**字符串数据**。|\n",
    "|json.loads()|将**字符串数据**（长得像字典的字符串）解码为 **python对象数据**。|"
   ]
  },
  {
   "cell_type": "code",
   "execution_count": 38,
   "metadata": {},
   "outputs": [
    {
     "name": "stdout",
     "output_type": "stream",
     "text": [
      "<class 'dict'>\n",
      "<class 'str'>\n"
     ]
    }
   ],
   "source": [
    "import json\n",
    " \n",
    "# Python 字典类型转换为 JSON 对象\n",
    "info = {\n",
    "    'name' : 'David',\n",
    "    'gender' : 'male',\n",
    "    'age' : '25'\n",
    "}\n",
    " \n",
    "\n",
    "print(type(info))\n",
    "json_str = json.dumps(info)\n",
    "print(type(json_str))"
   ]
  },
  {
   "cell_type": "code",
   "execution_count": 39,
   "metadata": {},
   "outputs": [
    {
     "name": "stdout",
     "output_type": "stream",
     "text": [
      "<class 'str'>\n",
      "{'name': 'David', 'gender': 'male', 'age': '25'}\n",
      "<class 'dict'>\n"
     ]
    }
   ],
   "source": [
    "import json\n",
    "\n",
    "dict_str = '{\"name\": \"David\", \"gender\": \"male\", \"age\": \"25\"}'\n",
    "\n",
    "\n",
    "print(type(dict_str))\n",
    "data = json.loads(dict_str)\n",
    "print(data)\n",
    "print(type(data))"
   ]
  },
  {
   "cell_type": "markdown",
   "metadata": {},
   "source": [
    "# 四、数据存储\n",
    "一般爬虫数据常常存储于txt和或csv文件中。\n",
    "\n",
    "## 4.1 存储到txt\n",
    "\n",
    "```python\n",
    "txtf = 'data.txt'  \n",
    "\n",
    "#新建一个data.txt文件， 使用追加方式（a+），编码采用utf-8\n",
    "f = open(txtf, 'a+', encoding='utf-8')\n",
    "\n",
    "#采集到的文本数据\n",
    "content = '采集到的文本数据'\n",
    "\n",
    "#将content写入到data.txt中\n",
    "f.write(content)\n",
    "\n",
    "#关闭f\n",
    "f.close()\n",
    "```\n",
    "\n",
    "\n",
    "|**txt与代码文件是否在同一文件夹**|txt文件路径写法|例子|\n",
    "|---|---|---|\n",
    "|是|文件名.txt|'data.txt'|\n",
    "|否|路径/文件名.txt|\"/Users/suosuo/Desktop/data.txt\"|"
   ]
  },
  {
   "cell_type": "code",
   "execution_count": null,
   "metadata": {},
   "outputs": [],
   "source": [
    "#data.txt 与 代码脚本在同一路径\n",
    "txtf = 'data.txt'  \n",
    "f = open(txtf, 'a+', encoding='utf-8')\n",
    "content = '采集到的文本数据'\n",
    "f.write(content)\n",
    "f.close()"
   ]
  },
  {
   "cell_type": "code",
   "execution_count": null,
   "metadata": {},
   "outputs": [],
   "source": [
    "#data.txt 与 代码脚本不在同一路径,\n",
    "# 但data文件夹与 代码脚本在同一路径\n",
    "txtf = 'data/data.txt'  \n",
    "f = open(txtf, 'a+', encoding='utf-8')\n",
    "content = '将采集到的文本数据存储在 data/data.txt'\n",
    "f.write(content)\n",
    "f.close()"
   ]
  },
  {
   "cell_type": "markdown",
   "metadata": {},
   "source": [
    "## 4.2 存入csv\n",
    "\n",
    "```python\n",
    "file = 'data.csv'\n",
    "csvf = open(file, 'a+', encoding='gbk', newline = '')\n",
    "writer = csv.writer(csvf)\n",
    "\n",
    "#向csv文件写入数据时候，要求的格式为 元组样式数据\n",
    "writer.writerow('元组类型的数据')\n",
    "\n",
    "csvf.clsoe\n",
    "```"
   ]
  },
  {
   "cell_type": "code",
   "execution_count": null,
   "metadata": {},
   "outputs": [],
   "source": [
    "import csv \n",
    "\n",
    "file = 'data/data.csv'\n",
    "#使用utf-8编码保存，使用excell打开会显示乱码。这里使用gbk保存\n",
    "csvf = open(file, 'a+', encoding='gbk', newline = '')\n",
    "writer = csv.writer(csvf)\n",
    "\n",
    "#定义data.csv文件的列名\n",
    "writer.writerow(('name', 'gender', 'age'))\n",
    "\n",
    "#写入数据\n",
    "writer.writerow(('David', 'male', '25'))\n",
    "writer.writerow(('Mark', 'male', '23'))\n",
    "\n",
    "#关闭\n",
    "csvf.close()"
   ]
  },
  {
   "cell_type": "code",
   "execution_count": null,
   "metadata": {},
   "outputs": [],
   "source": [
    "import csv\n",
    "\n",
    "#采集到的数据以列表和元组形式组合\n",
    "datas = [('David', 'male', '25'),\n",
    "        ('Mark', 'male', '23'),\n",
    "        ('Mary', 'female', '18')]\n",
    "\n",
    "csvf = open('data/data2.csv', 'a+', encoding='gbk', newline='')\n",
    "writer = csv.writer(csvf)\n",
    "#定义列名时要在for循环之外\n",
    "writer.writerow(('name', 'gender', 'age'))\n",
    "\n",
    "for data in datas:\n",
    "    #写入csv数据时，要在for循环内\n",
    "    writer.writerow(data)\n",
    "\n",
    "#关闭要在for循环外"
   ]
  },
  {
   "cell_type": "markdown",
   "metadata": {},
   "source": [
    "# [下一节：05-爬虫实战.ipynb](05-爬虫实战.ipynb)"
   ]
  }
 ],
 "metadata": {
  "kernelspec": {
   "display_name": "Python 3",
   "language": "python",
   "name": "python3"
  },
  "language_info": {
   "codemirror_mode": {
    "name": "ipython",
    "version": 3
   },
   "file_extension": ".py",
   "mimetype": "text/x-python",
   "name": "python",
   "nbconvert_exporter": "python",
   "pygments_lexer": "ipython3",
   "version": "3.7.4"
  }
 },
 "nbformat": 4,
 "nbformat_minor": 2
}
