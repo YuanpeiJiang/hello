{
 "cells": [
  {
   "cell_type": "markdown",
   "metadata": {
    "slideshow": {
     "slide_type": "slide"
    }
   },
   "source": [
    "# 第二部分 数据采集（⽹络爬⾍）\n",
    "\n",
    "## 2.1 爬虫原理"
   ]
  },
  {
   "cell_type": "markdown",
   "metadata": {
    "slideshow": {
     "slide_type": "slide"
    }
   },
   "source": [
    "### 2.1.1获取网页数据：\n",
    "- 蓝色线条：``发起请求 （request）``\n",
    "- 红色线条：``返回响应（response）``\n",
    "\n",
    "\n",
    "![](img/爬虫原理.png)"
   ]
  },
  {
   "cell_type": "markdown",
   "metadata": {},
   "source": [
    "### 2.1.2  响应response\n",
    "\n",
    "一般我们得到的响应数据有两种：\n",
    "- html\n",
    "- json，书写格式类似于python的字典。\n",
    "\n",
    "之后我们需要解析网页数据才能将干净的数据存储到数据库或者相应的文件中。"
   ]
  },
  {
   "cell_type": "markdown",
   "metadata": {},
   "source": [
    "## 2.2 页面背后的文件\n",
    "### 2.2.1 HTML\n",
    "\n",
    "这是我写的一个简单的html，比如我们访问下面这个网站的网址\n",
    "\n",
    "[**测试网页.html**](file/测试网页.html)"
   ]
  },
  {
   "cell_type": "markdown",
   "metadata": {},
   "source": [
    "而我们看到的网页效果背后实际上是用 **html标记语言** 书写设计的，下面就是 ``测试网页.html`` 的代码"
   ]
  },
  {
   "cell_type": "markdown",
   "metadata": {},
   "source": [
    "**比较有代表性的是**\n",
    "\n",
    "[**豆瓣读书 https://book.douban.com/tag/小说**](https://book.douban.com/tag/小说)"
   ]
  },
  {
   "cell_type": "markdown",
   "metadata": {},
   "source": [
    "### 2.2.2  json\n",
    "有的网站，我们在页面上看到的内容存在于json文件，而不是html文件。\n",
    "\n",
    "**json文件非常类似于python的字典数据类型**\n",
    "\n",
    "```json\n",
    "{\n",
    "\"sites\": [\n",
    "          { \"name\":\"百度\" , \"url\":\"www.baidu.com\" },\n",
    "          { \"name\":\"google\" , \"url\":\"www.google.com\" },\n",
    "          { \"name\":\"微博\" , \"url\":\"www.weibo.com\" }\n",
    "         ]\n",
    "}\n",
    "```\n"
   ]
  },
  {
   "cell_type": "markdown",
   "metadata": {},
   "source": [
    "**比较有代表性的是** \n",
    "\n",
    "[**豆瓣电影 https://movie.douban.com/tag**](https://movie.douban.com/tag)。"
   ]
  },
  {
   "cell_type": "markdown",
   "metadata": {},
   "source": [
    "## 2.3 开发者工具\n",
    "\n",
    "按 ``F12键`` 打开开发者工具。数据采集常用的有 ``Element面板`` 和 ``Network面板``\n",
    "\n",
    "- ``Element面板``：查看网页元素（html网页数据）\n",
    "- ``Network面板``：查看浏览器与网站之间的数据交互信息，多用于**抓包**\n",
    "\n",
    "![](img/开发者工具1.jpg)\n",
    "![](img/开发者工具2.jpg)"
   ]
  },
  {
   "cell_type": "markdown",
   "metadata": {},
   "source": [
    "## 2.4 网页请求\n",
    "数据采集（爬虫）一开始首先要攻克两个问题，才能大批量快速的抓取网页数据：\n",
    "- **网页数据在哪里？** \n",
    "- **如何获取网页数据？** 使用requests访问该url获得网页数据\n",
    "\n",
    "### 2.4.1 网页数据在哪里？\n",
    "\n",
    "#### 2.4.1.1 发现网址规律\n",
    "对于常规的html网页数据，一般多点击翻页即可发现url规律。\n",
    "\n",
    "例如 [**豆瓣读书-小说**](https://book.douban.com/tag/小说)\n",
    "\n",
    "![](img/小说3.jpg)"
   ]
  },
  {
   "cell_type": "markdown",
   "metadata": {},
   "source": [
    "**翻看前三页得到网页网址如下**\n",
    "\n",
    "```\n",
    "第一页url：https://book.douban.com/tag/小说?start=0&type=T\n",
    "第二页url：https://book.douban.com/tag/小说?start=20&type=T\n",
    "第三页url：https://book.douban.com/tag/小说?start=40&type=T\n",
    "```\n",
    "\n",
    "我们发现url的规律:**这里的url规律是页码数减1后乘以20**,"
   ]
  },
  {
   "cell_type": "markdown",
   "metadata": {},
   "source": [
    "#### 2.4.1.2 根据规律构造url\n",
    "我们先抽象出一个**url模板**，之后根据**网页页面数**与**url**对应关系来生成更多的url\n",
    "\n",
    "**url模板**\n",
    "\n",
    "```\n",
    "https://book.douban.com/tag/小说?start={param}&type=T\n",
    "```"
   ]
  },
  {
   "cell_type": "markdown",
   "metadata": {},
   "source": [
    "#### 2.4.1.3 批量生成网址"
   ]
  },
  {
   "cell_type": "code",
   "execution_count": 3,
   "metadata": {},
   "outputs": [
    {
     "name": "stdout",
     "output_type": "stream",
     "text": [
      "第1页url: https://book.douban.com/tag/小说?start=0&type=T\n",
      "第2页url: https://book.douban.com/tag/小说?start=20&type=T\n",
      "第3页url: https://book.douban.com/tag/小说?start=40&type=T\n",
      "第4页url: https://book.douban.com/tag/小说?start=60&type=T\n",
      "第5页url: https://book.douban.com/tag/小说?start=80&type=T\n",
      "第6页url: https://book.douban.com/tag/小说?start=100&type=T\n",
      "第7页url: https://book.douban.com/tag/小说?start=120&type=T\n",
      "第8页url: https://book.douban.com/tag/小说?start=140&type=T\n",
      "第9页url: https://book.douban.com/tag/小说?start=160&type=T\n",
      "第10页url: https://book.douban.com/tag/小说?start=180&type=T\n"
     ]
    }
   ],
   "source": [
    "template = 'https://book.douban.com/tag/小说?start={param}&type=T'\n",
    "import time\n",
    "\n",
    "for page in range(1, 11):\n",
    "    url = template.format(param=(page-1)*20)\n",
    "    print('第{}页url:'.format(page), url)\n",
    "    time.sleep(1)"
   ]
  },
  {
   "cell_type": "code",
   "execution_count": null,
   "metadata": {},
   "outputs": [],
   "source": [
    "## 2.5 设计python爬虫代码的思路\n",
    "### 分析网址规律\n",
    "### 找到"
   ]
  }
 ],
 "metadata": {
  "kernelspec": {
   "display_name": "Python 3",
   "language": "python",
   "name": "python3"
  },
  "language_info": {
   "codemirror_mode": {
    "name": "ipython",
    "version": 3
   },
   "file_extension": ".py",
   "mimetype": "text/x-python",
   "name": "python",
   "nbconvert_exporter": "python",
   "pygments_lexer": "ipython3",
   "version": "3.7.3"
  }
 },
 "nbformat": 4,
 "nbformat_minor": 2
}
