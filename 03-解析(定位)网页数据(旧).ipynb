{
 "cells": [
  {
   "cell_type": "markdown",
   "metadata": {},
   "source": [
    "## 2.3 解析(定位)网页数据\n",
    "将需要的data从网页中提取出来，常用的库有：\n",
    "- pyquery库\n",
    "- re库\n",
    "- json库\n",
    "\n",
    "\n",
    "html就像家族树，有层级结构\n",
    "![](img/家族树.jpeg)"
   ]
  },
  {
   "cell_type": "markdown",
   "metadata": {},
   "source": [
    "我们想象中的html是有层级关系的，有层次的，整洁的。但实际上html往往是一坨扁平的字符串。\n",
    "\n",
    "```\n",
    "'<html>\\n<meta charset=\"UTF-8\">\\n<head>\\n<title>用python做文本分析</title>\\n</head>\\n<body>\\n<div class=\"name\">\\n     <p class=\"name\">【课程名称：用python做文本分析】</p>\\n</div>\\n<div class=\"intro\">\\n<b class=\"intro\">【课程介绍】</b>\\n      <p class=\"intro\">随着大数据的到来，对非结构化数据的分析越来越重要。本课程教授给大家如何从网络世界获取数据，并进行数据分析</p>\\n   </div>\\n<div class=\"wechat\">\\n<p class=\"wechat\">【公众号：大邓和他的Python】</p>\\n<img src=\"../img/公众号二维码.jpg\">\\n      </div>\\n</body>\\n</html>\\n'\n",
    "```\n",
    "\n",
    "我们要先用BeautifulSoup,将其整理成有层次的对象。再使用BeautifulSoup库中的处理方法解析定位数据。\n",
    "\n",
    "## 2.4 BeautifulSoup库\n",
    "\n",
    "**安装**\n",
    "\n",
    "```\n",
    "pip3 install bs4\n",
    "```\n",
    "\n",
    "[**bs4 文档链接**](http://beautifulsoup.readthedocs.io/zh_CN/v4.4.0/)\n",
    "\n",
    "解析html网页数据库。将网页变成有层次的树形结构，能够快速定位需要的标签里的数据。\n",
    "\n",
    "**我们先看一个html文本**\n",
    "\n",
    "[**file/测试网页.html**](data/测试网页.html)"
   ]
  },
  {
   "cell_type": "code",
   "execution_count": 5,
   "metadata": {},
   "outputs": [
    {
     "data": {
      "text/plain": [
       "'<html>\\n    <meta charset=\"UTF-8\">\\n    <head>\\n        <title>用python做文本分析</title>\\n    </head>\\n    <body>\\n        <div class=\"name\">\\n            <p class=\"name\">【课程名称：用python做文本分析】</p>\\n        </div>\\n        <div class=\"intro\">\\n            <b class=\"intro\">【课程介绍】</b>\\n            <p class=\"intro\">随着大数据的到来，对非结构化数据的分析越来越重要。本课程教授给大家如何从网络世界获取数据，并进行数据分析</p>\\n        </div>\\n        <div class=\"wechat\">\\n            <p class=\"wechat\">【公众号：大邓和他的Python】</p>\\n            <img src=\"../img/公众号二维码.jpg\">\\n        </div>\\n    </body>\\n</html>\\n'"
      ]
     },
     "execution_count": 5,
     "metadata": {},
     "output_type": "execute_result"
    }
   ],
   "source": [
    "html = open('data/测试网页.html').read()\n",
    "html"
   ]
  },
  {
   "cell_type": "markdown",
   "metadata": {},
   "source": [
    "### 2.4.1 将html字符串变为BeautifulSoup对象"
   ]
  },
  {
   "cell_type": "code",
   "execution_count": 1,
   "metadata": {},
   "outputs": [
    {
     "data": {
      "text/plain": [
       "<html>\n",
       "<meta charset=\"utf-8\"/>\n",
       "<head>\n",
       "<title>用python做文本分析</title>\n",
       "</head>\n",
       "<body>\n",
       "<div class=\"name\">\n",
       "<p class=\"name\">【课程名称：用python做文本分析】</p>\n",
       "</div>\n",
       "<div class=\"intro\">\n",
       "<b class=\"intro\">【课程介绍】</b>\n",
       "<p class=\"intro\">随着大数据的到来，对非结构化数据的分析越来越重要。本课程教授给大家如何从网络世界获取数据，并进行数据分析</p>\n",
       "</div>\n",
       "<div class=\"wechat\">\n",
       "<p class=\"wechat\">【公众号：大邓和他的Python】</p>\n",
       "<img src=\"../img/公众号二维码.jpg\"/>\n",
       "</div>\n",
       "</body>\n",
       "</html>"
      ]
     },
     "execution_count": 1,
     "metadata": {},
     "output_type": "execute_result"
    }
   ],
   "source": [
    "from bs4 import BeautifulSoup\n",
    "\n",
    "html = open('data/测试网页.html').read()\n",
    "bsObj = BeautifulSoup(html, 'html.parser')\n",
    "bsObj"
   ]
  },
  {
   "cell_type": "code",
   "execution_count": 2,
   "metadata": {},
   "outputs": [
    {
     "name": "stdout",
     "output_type": "stream",
     "text": [
      "html数据类型: <class 'str'>\n",
      "bsObj数据类型: <class 'bs4.BeautifulSoup'>\n"
     ]
    }
   ],
   "source": [
    "from bs4 import BeautifulSoup \n",
    "\n",
    "print('html数据类型:',type(html))\n",
    "bsObj = BeautifulSoup(html, 'html.parser')\n",
    "print('bsObj数据类型:',type(bsObj))"
   ]
  },
  {
   "cell_type": "markdown",
   "metadata": {},
   "source": [
    "### 2.4.2 BeautifulSoup对象方法\n",
    "整理为BeautifulSoup类后的网页数据，拥有特殊的过滤方法，可以让我们很方便的定位目标数据。\n",
    "\n",
    "\n",
    "BeautifulSoup有类似于正则库（re.find_all的方法）bsObj.find_all()，可以用过滤器来定位数据\n",
    "\n",
    "过滤器可以是 tag的name， tag的属性，或者tag夹住的字符串\n",
    "\n",
    "**tag的name**\n",
    "最简单的过滤器是字符串.在搜索方法中传入一个字符串参数,Beautiful Soup会查找与字符串完整匹配的内容,下面的例子用于查找文档中所有的<div>标签:"
   ]
  },
  {
   "cell_type": "code",
   "execution_count": 13,
   "metadata": {},
   "outputs": [
    {
     "data": {
      "text/plain": [
       "[<div class=\"name\">\n",
       " <p class=\"name\">【课程名称：用python做文本分析】</p>\n",
       " </div>, <div class=\"intro\">\n",
       " <b class=\"intro\">【课程介绍】</b>\n",
       " <p class=\"intro\">随着大数据的到来，对非结构化数据的分析越来越重要。本课程教授给大家如何从网络世界获取数据，并进行数据分析</p>\n",
       " </div>, <div class=\"wechat\">\n",
       " <p class=\"wechat\">【公众号：大邓和他的Python】</p>\n",
       " <img src=\"../img/公众号二维码.jpg\"/>\n",
       " </div>]"
      ]
     },
     "execution_count": 13,
     "metadata": {},
     "output_type": "execute_result"
    }
   ],
   "source": [
    "bsObj.find_all(name = 'div')"
   ]
  },
  {
   "cell_type": "markdown",
   "metadata": {},
   "source": [
    "**正则表达式**\n",
    "\n",
    "如果传入正则表达式作为参数,Beautiful Soup会通过正则表达式的来匹配内容.下面例子中找出所有以b开头的标签,这表示<body>和<b>标签都应该被找到:"
   ]
  },
  {
   "cell_type": "code",
   "execution_count": 14,
   "metadata": {},
   "outputs": [
    {
     "data": {
      "text/plain": [
       "[<div class=\"name\">\n",
       " <p class=\"name\">【课程名称：用python做文本分析】</p>\n",
       " </div>, <div class=\"intro\">\n",
       " <b class=\"intro\">【课程介绍】</b>\n",
       " <p class=\"intro\">随着大数据的到来，对非结构化数据的分析越来越重要。本课程教授给大家如何从网络世界获取数据，并进行数据分析</p>\n",
       " </div>, <div class=\"wechat\">\n",
       " <p class=\"wechat\">【公众号：大邓和他的Python】</p>\n",
       " <img src=\"../img/公众号二维码.jpg\"/>\n",
       " </div>]"
      ]
     },
     "execution_count": 14,
     "metadata": {},
     "output_type": "execute_result"
    }
   ],
   "source": [
    "import re\n",
    "bsObj.find_all(name = re.compile('div'))"
   ]
  },
  {
   "cell_type": "markdown",
   "metadata": {},
   "source": [
    "**列表**\n",
    "\n",
    "如果传入列表参数,BeautifulSoup会将与列表中任一元素匹配的内容返回.下面代码找到文档中所有<a>标签和<img>标签:"
   ]
  },
  {
   "cell_type": "code",
   "execution_count": 15,
   "metadata": {},
   "outputs": [
    {
     "data": {
      "text/plain": [
       "[<p class=\"name\">【课程名称：用python做文本分析】</p>,\n",
       " <p class=\"intro\">随着大数据的到来，对非结构化数据的分析越来越重要。本课程教授给大家如何从网络世界获取数据，并进行数据分析</p>,\n",
       " <p class=\"wechat\">【公众号：大邓和他的Python】</p>,\n",
       " <img src=\"../img/公众号二维码.jpg\"/>]"
      ]
     },
     "execution_count": 15,
     "metadata": {},
     "output_type": "execute_result"
    }
   ],
   "source": [
    "bsObj.find_all(name = ['p', 'img'])"
   ]
  },
  {
   "cell_type": "code",
   "execution_count": null,
   "metadata": {},
   "outputs": [],
   "source": []
  },
  {
   "cell_type": "markdown",
   "metadata": {},
   "source": [
    "总结一下\n",
    "\n",
    "|BeautifulSoup对象方法|作用|\n",
    "|---|---|\n",
    "|BeautifulSoup.find(name, attrs, string)|得到第一个符合条件的结果,返回的  单个Tag对象。|\n",
    "|BeautifulSoup.find_all(name, attrs, string)|得到的所有符合条件的结果,返回的是**列表**（列表中含有多个Tag对象元素）|\n",
    "\n",
    "- name  标签名，如'a'、 'div'等等，\n",
    "- attrs  标签内的属性-值键值对  如``<p class=\"name\">【课程名称：用python做文本分析】  </p>标签对应的 attrs={'class':'name'}``\n",
    "- string  标签内包含的字符串  如``<p class=\"name\">【课程名称：用python做文本分析】  </p>标签对应的 string='用python做文本'``\n",
    "\n",
    "注意：attrs形如字典，比如\n",
    "\n",
    "```python\n",
    "bsObj.find_all('div', {'class':'wechat'})\n",
    "```\n",
    "\n",
    "意思是找标签是div，且该div种的id是wechat"
   ]
  },
  {
   "cell_type": "code",
   "execution_count": 4,
   "metadata": {},
   "outputs": [
    {
     "data": {
      "text/plain": [
       "[<p class=\"name\">【课程名称：用python做文本分析】</p>,\n",
       " <p class=\"intro\">随着大数据的到来，对非结构化数据的分析越来越重要。本课程教授给大家如何从网络世界获取数据，并进行数据分析</p>,\n",
       " <p class=\"wechat\">【公众号：大邓和他的Python】</p>]"
      ]
     },
     "execution_count": 4,
     "metadata": {},
     "output_type": "execute_result"
    }
   ],
   "source": [
    "bsObj.find_all('p')"
   ]
  },
  {
   "cell_type": "code",
   "execution_count": 5,
   "metadata": {},
   "outputs": [
    {
     "data": {
      "text/plain": [
       "[<p class=\"intro\">随着大数据的到来，对非结构化数据的分析越来越重要。本课程教授给大家如何从网络世界获取数据，并进行数据分析</p>]"
      ]
     },
     "execution_count": 5,
     "metadata": {},
     "output_type": "execute_result"
    }
   ],
   "source": [
    "import re\n",
    "\n",
    "bsObj.find_all('p', {'class':'intro'})"
   ]
  },
  {
   "cell_type": "code",
   "execution_count": 7,
   "metadata": {},
   "outputs": [
    {
     "data": {
      "text/plain": [
       "[]"
      ]
     },
     "execution_count": 7,
     "metadata": {},
     "output_type": "execute_result"
    }
   ],
   "source": [
    "bsObj.find_all('p', string='用python做文本')"
   ]
  },
  {
   "cell_type": "markdown",
   "metadata": {},
   "source": [
    "### 2.3.2 子节点\n",
    "\n",
    "BeautifulSoup对象简写为bsObj\n",
    "\n",
    "|bsObj或Tag对象 定位子节点常用方法|作用|\n",
    "|---|---|\n",
    "|``.tag``|只获得子节点tag，tag是节点的名字|\n",
    "|``.contents``| 只获得子节点列表|\n",
    "|``.string``|如果当前节点只有一段文本，使用该方法返回字符串|\n",
    "|``.strings``|如果当前节点含有多段文本，彼此被节点分割。那么要使用strings方法，返回可迭代对象|"
   ]
  },
  {
   "cell_type": "markdown",
   "metadata": {},
   "source": [
    "#### 2.3.2.1 tag节点\n",
    "\n",
    "tag是节点的名字\n",
    "\n",
    ">注意:tag方法只能获取符合条件的第一个节点"
   ]
  },
  {
   "cell_type": "code",
   "execution_count": 6,
   "metadata": {},
   "outputs": [
    {
     "data": {
      "text/plain": [
       "<body>\n",
       "<div class=\"name\">\n",
       "<p class=\"name\">【课程名称：用python做文本分析】</p>\n",
       "</div>\n",
       "<div class=\"intro\">\n",
       "<b class=\"intro\">【课程介绍】</b>\n",
       "<p class=\"intro\">随着大数据的到来，对非结构化数据的分析越来越重要。本课程教授给大家如何从网络世界获取数据，并进行数据分析</p>\n",
       "</div>\n",
       "<div class=\"wechat\">\n",
       "<p class=\"wechat\">【公众号：大邓和他的Python】</p>\n",
       "<img src=\"../img/公众号二维码.jpg\"/>\n",
       "</div>\n",
       "</body>"
      ]
     },
     "execution_count": 6,
     "metadata": {},
     "output_type": "execute_result"
    }
   ],
   "source": [
    "bsObj.body"
   ]
  },
  {
   "cell_type": "code",
   "execution_count": 8,
   "metadata": {},
   "outputs": [
    {
     "data": {
      "text/plain": [
       "<title>用python做文本分析</title>"
      ]
     },
     "execution_count": 8,
     "metadata": {},
     "output_type": "execute_result"
    }
   ],
   "source": [
    "#bsObj.title\n",
    "bsObj.head.title"
   ]
  },
  {
   "cell_type": "code",
   "execution_count": 11,
   "metadata": {},
   "outputs": [
    {
     "data": {
      "text/plain": [
       "<body>\n",
       "<div class=\"name\">\n",
       "<p class=\"name\">【课程名称：用python做文本分析】</p>\n",
       "</div>\n",
       "<div class=\"intro\">\n",
       "<b class=\"intro\">【课程介绍】</b>\n",
       "<p class=\"intro\">随着大数据的到来，对非结构化数据的分析越来越重要。本课程教授给大家如何从网络世界获取数据，并进行数据分析</p>\n",
       "</div>\n",
       "<div class=\"wechat\">\n",
       "<p class=\"wechat\">【公众号：大邓和他的Python】</p>\n",
       "<img src=\"../img/公众号二维码.jpg\"/>\n",
       "</div>\n",
       "</body>"
      ]
     },
     "execution_count": 11,
     "metadata": {},
     "output_type": "execute_result"
    }
   ],
   "source": [
    "bsObj.body"
   ]
  },
  {
   "cell_type": "code",
   "execution_count": 9,
   "metadata": {},
   "outputs": [
    {
     "data": {
      "text/plain": [
       "<div class=\"name\">\n",
       "<p class=\"name\">【课程名称：用python做文本分析】</p>\n",
       "</div>"
      ]
     },
     "execution_count": 9,
     "metadata": {},
     "output_type": "execute_result"
    }
   ],
   "source": [
    "bsObj.body.div"
   ]
  },
  {
   "cell_type": "markdown",
   "metadata": {},
   "source": [
    "#### 2.3.2.2 contents\n",
    "获取当前节点的 子节点们 ，返回列表。\n",
    "\n",
    "**注意： 列表中的元素是字符串类型的数据。**"
   ]
  },
  {
   "cell_type": "code",
   "execution_count": 11,
   "metadata": {},
   "outputs": [
    {
     "data": {
      "text/plain": [
       "['\\n', <div class=\"name\">\n",
       " <p class=\"name\">【课程名称：用python做文本分析】</p>\n",
       " </div>, '\\n', <div class=\"intro\">\n",
       " <b class=\"intro\">【课程介绍】</b>\n",
       " <p class=\"intro\">随着大数据的到来，对非结构化数据的分析越来越重要。本课程教授给大家如何从网络世界获取数据，并进行数据分析</p>\n",
       " </div>, '\\n', <div class=\"wechat\">\n",
       " <p class=\"wechat\">【公众号：大邓和他的Python】</p>\n",
       " <img src=\"../img/公众号二维码.jpg\"/>\n",
       " </div>, '\\n']"
      ]
     },
     "execution_count": 11,
     "metadata": {},
     "output_type": "execute_result"
    }
   ],
   "source": [
    "bsObj.body.contents"
   ]
  },
  {
   "cell_type": "code",
   "execution_count": 12,
   "metadata": {},
   "outputs": [
    {
     "data": {
      "text/plain": [
       "[<div class=\"name\">\n",
       " <p class=\"name\">【课程名称：用python做文本分析】</p>\n",
       " </div>, <div class=\"intro\">\n",
       " <b class=\"intro\">【课程介绍】</b>\n",
       " <p class=\"intro\">随着大数据的到来，对非结构化数据的分析越来越重要。本课程教授给大家如何从网络世界获取数据，并进行数据分析</p>\n",
       " </div>, <div class=\"wechat\">\n",
       " <p class=\"wechat\">【公众号：大邓和他的Python】</p>\n",
       " <img src=\"../img/公众号二维码.jpg\"/>\n",
       " </div>]"
      ]
     },
     "execution_count": 12,
     "metadata": {},
     "output_type": "execute_result"
    }
   ],
   "source": [
    "[b \n",
    " for b in bsObj.body.contents \n",
    " if b!='\\n']"
   ]
  },
  {
   "cell_type": "markdown",
   "metadata": {},
   "source": [
    "#### 2.3.2.3 .string\n",
    "如果当前节点只有一段文本，使用该方法返回字符串"
   ]
  },
  {
   "cell_type": "code",
   "execution_count": 15,
   "metadata": {},
   "outputs": [
    {
     "data": {
      "text/plain": [
       "<title>用python做文本分析</title>"
      ]
     },
     "execution_count": 15,
     "metadata": {},
     "output_type": "execute_result"
    }
   ],
   "source": [
    "bsObj.title"
   ]
  },
  {
   "cell_type": "code",
   "execution_count": 16,
   "metadata": {},
   "outputs": [
    {
     "data": {
      "text/plain": [
       "'用python做文本分析'"
      ]
     },
     "execution_count": 16,
     "metadata": {},
     "output_type": "execute_result"
    }
   ],
   "source": [
    "bsObj.title.string"
   ]
  },
  {
   "cell_type": "markdown",
   "metadata": {},
   "source": [
    "#### 2.3.2.4 .strings\n",
    "如果当前节点含有多段文本，彼此被节点分割。那么要使用strings方法，返回可迭代对象"
   ]
  },
  {
   "cell_type": "code",
   "execution_count": 17,
   "metadata": {},
   "outputs": [
    {
     "data": {
      "text/plain": [
       "<generator object Tag._all_strings at 0x108b2ef48>"
      ]
     },
     "execution_count": 17,
     "metadata": {},
     "output_type": "execute_result"
    }
   ],
   "source": [
    "bsObj.body.strings"
   ]
  },
  {
   "cell_type": "code",
   "execution_count": 25,
   "metadata": {},
   "outputs": [
    {
     "name": "stdout",
     "output_type": "stream",
     "text": [
      "\n",
      "\n",
      "\n",
      "\n",
      "【课程名称：用python做文本分析】\n",
      "\n",
      "\n",
      "\n",
      "\n",
      "\n",
      "\n",
      "【课程介绍】\n",
      "\n",
      "\n",
      "随着大数据的到来，对非结构化数据的分析越来越重要。本课程教授给大家如何从网络世界获取数据，并进行数据分析\n",
      "\n",
      "\n",
      "\n",
      "\n",
      "\n",
      "\n",
      "【公众号：大邓和他的Python】\n",
      "\n",
      "\n",
      "\n",
      "\n",
      "\n",
      "\n"
     ]
    }
   ],
   "source": [
    "import re\n",
    "\n",
    "for b in bsObj.body.strings:\n",
    "    print(b)"
   ]
  },
  {
   "cell_type": "markdown",
   "metadata": {},
   "source": [
    "### 2.3.5 find/findall 方法\n",
    "\n",
    "|BeautifulSoup对象方法|作用|\n",
    "|---|---|\n",
    "|BeautifulSoup.find(name, attrs)|得到第一个符合条件的结果,返回的  单个Tag对象|\n",
    "|BeautifulSoup.find_all(name, attrs)|得到的所有符合条件的结果,返回的是**列表**（列表中含有多个Tag对象元素）|\n",
    "\n",
    "注意：attrs形如字典，比如\n",
    "\n",
    "```python\n",
    "bsObj.find_all('div', {'class':'wechat'})\n",
    "```\n",
    "\n",
    "意思是找标签是div，且该div种的id是wechat"
   ]
  },
  {
   "cell_type": "code",
   "execution_count": 32,
   "metadata": {},
   "outputs": [
    {
     "data": {
      "text/plain": [
       "<p class=\"name\">【课程名称：用python做文本分析】</p>"
      ]
     },
     "execution_count": 32,
     "metadata": {},
     "output_type": "execute_result"
    }
   ],
   "source": [
    "bsObj.find('p', {'class':'name'})"
   ]
  },
  {
   "cell_type": "code",
   "execution_count": 31,
   "metadata": {},
   "outputs": [
    {
     "data": {
      "text/plain": [
       "[<p class=\"name\">【课程名称：用python做文本分析】</p>]"
      ]
     },
     "execution_count": 31,
     "metadata": {},
     "output_type": "execute_result"
    }
   ],
   "source": [
    "bsObj.find_all('p', {'class':'name'})"
   ]
  },
  {
   "cell_type": "code",
   "execution_count": 33,
   "metadata": {},
   "outputs": [
    {
     "data": {
      "text/plain": [
       "<p class=\"intro\">随着大数据的到来，对非结构化数据的分析越来越重要。本课程教授给大家如何从网络世界获取数据，并进行数据分析</p>"
      ]
     },
     "execution_count": 33,
     "metadata": {},
     "output_type": "execute_result"
    }
   ],
   "source": [
    "bsObj.find('p', {'class':'intro'})"
   ]
  },
  {
   "cell_type": "code",
   "execution_count": 35,
   "metadata": {},
   "outputs": [
    {
     "data": {
      "text/plain": [
       "[<div class=\"intro\">\n",
       " <b class=\"intro\">【课程介绍】</b>\n",
       " <p class=\"intro\">随着大数据的到来，对非结构化数据的分析越来越重要。本课程教授给大家如何从网络世界获取数据，并进行数据分析</p>\n",
       " </div>]"
      ]
     },
     "execution_count": 35,
     "metadata": {},
     "output_type": "execute_result"
    }
   ],
   "source": [
    "bsObj.find_all('div', {'class':'intro'})"
   ]
  },
  {
   "cell_type": "code",
   "execution_count": 36,
   "metadata": {},
   "outputs": [
    {
     "data": {
      "text/plain": [
       "[<p class=\"name\">【课程名称：用python做文本分析】</p>]"
      ]
     },
     "execution_count": 36,
     "metadata": {},
     "output_type": "execute_result"
    }
   ],
   "source": [
    "bsObj.find_all('p', {'class':'name'})"
   ]
  },
  {
   "cell_type": "markdown",
   "metadata": {},
   "source": [
    "# 二、正则表达式 re库"
   ]
  },
  {
   "cell_type": "markdown",
   "metadata": {},
   "source": [
    "\n",
    "### 3.2 re库-正则表达式\n",
    "\n",
    "#### 部分正则符号\n",
    "\n",
    "|正则符号|描述|\n",
    "|---|---|\n",
    "|``( )``|标记一个子表达式的开始和结束位置。|\n",
    "|.|\t匹配除换行符 ``\\n`` 之外的任何单字符。要匹配 ``. ``，请使用 ``\\. ``。|\n",
    "|\\*|\t匹配前面的子表达式零次或多次。要匹配 \\* 字符，请使用 ``\\*``。|\n",
    "|?|\t匹配前面的子表达式零次或一次，或指明一个非贪婪限定符。要匹配 \\? 字符，请使用 \\\\?。|\n",
    "|+|匹配前面的子表达式一次或多次。要匹配 ``+ ``字符，请使用 ``\\+``。|\n",
    "|\\[|\t标记一个中括号表达式的开始。要匹配 \\[,请使用``\\\\[``。|\n",
    "|\\|\t转义字符。例如， 'n' 匹配字符 'n'。'\\n' 匹配换行符。序列 '\\\\' 匹配 \"\\\"，而 '\\(' 则匹配 \"(\"。|\n",
    "|\\d|匹配字符串中的单个数字|\n",
    "|a-zA-Z|匹配全部英文字符|\n",
    "|0-9|匹配全部数字|\n",
    "|\\s|匹配字符串中的``\\n``,``\\t``,``空格``|"
   ]
  },
  {
   "cell_type": "markdown",
   "metadata": {},
   "source": [
    "**正则符号**组成**正则表达式**，用于**匹配**需要的字符。\n",
    "\n",
    "#### re库常用方法\n",
    "\n",
    "|re库常用函数|作用|\n",
    "|---|---|\n",
    "|``re.findall(pattern, string)``|根据pattern返回匹配结果（列表）|\n",
    "|``re.split(pattern, string)`` |使用pattern分割string，返回列表        \n",
    "|``re.sub(pattern, repl, string)``|使用repl替换string中的pattern|"
   ]
  },
  {
   "cell_type": "markdown",
   "metadata": {},
   "source": [
    "### re.findall(pattern, text)\n",
    "在text中查找满足pattern条件的文本，返回列表\n",
    "\n",
    "- pattern:用正则表达式设计的匹配规则\n",
    "- text：文本数据"
   ]
  },
  {
   "cell_type": "code",
   "execution_count": 36,
   "metadata": {},
   "outputs": [
    {
     "data": {
      "text/plain": [
       "[('张三', '25')]"
      ]
     },
     "execution_count": 36,
     "metadata": {},
     "output_type": "execute_result"
    }
   ],
   "source": [
    "import re\n",
    "\n",
    "description = '我叫张三,今年25岁'\n",
    "\n",
    "pattern = '我叫(.*?),今年(\\d+)岁'\n",
    "name_age = re.findall(pattern, description)\n",
    "name_age"
   ]
  },
  {
   "cell_type": "code",
   "execution_count": 38,
   "metadata": {},
   "outputs": [
    {
     "data": {
      "text/plain": [
       "['Good', 'Moring']"
      ]
     },
     "execution_count": 38,
     "metadata": {},
     "output_type": "execute_result"
    }
   ],
   "source": [
    "string = 'Good Moring，张三！'\n",
    "\n",
    "#english = re.findall('[a-zA-Z]+', string)\n",
    "english = re.findall('[a-zA-Z]+', string)\n",
    "english"
   ]
  },
  {
   "cell_type": "code",
   "execution_count": 41,
   "metadata": {},
   "outputs": [
    {
     "data": {
      "text/plain": [
       "[' 文化大革命如火如荼地进行，天文学家叶文洁在期间历经劫难，被带到军方绝秘计划“红岸工程”。\\n             ',\n",
       " ' 面对地球文明前所未有的危局，人类组建起同样庞大的太空舰队，同时（PDC）利用三体人思维透明的致命缺陷，制订了“面壁计划”。\\n             ',\n",
       " ' 在地球人类接近灭亡之际，只有程心和艾AA两个幸存者乘坐光速飞船离开。她们在冥王星带走人类文明的精华。']"
      ]
     },
     "execution_count": 41,
     "metadata": {},
     "output_type": "execute_result"
    }
   ],
   "source": [
    "import re\n",
    "#re.split()\n",
    "string3 = \"\"\"第一部 文化大革命如火如荼地进行，天文学家叶文洁在期间历经劫难，被带到军方绝秘计划“红岸工程”。\n",
    "             第二部 面对地球文明前所未有的危局，人类组建起同样庞大的太空舰队，同时（PDC）利用三体人思维透明的致命缺陷，制订了“面壁计划”。\n",
    "             第三部 在地球人类接近灭亡之际，只有程心和艾AA两个幸存者乘坐光速飞船离开。她们在冥王星带走人类文明的精华。\"\"\"\n",
    "\n",
    "\n",
    "titles = re.split('第[一二三]部', string3)\n",
    "\n",
    "[ t for t in titles if t!='']"
   ]
  },
  {
   "cell_type": "markdown",
   "metadata": {},
   "source": [
    "### re.split(pattern, text)\n",
    "用pattern分割text，返回列表\n",
    "\n",
    "- pattern:用正则表达式设计的匹配规则\n",
    "- text：待分割的文本数据"
   ]
  },
  {
   "cell_type": "code",
   "execution_count": 44,
   "metadata": {},
   "outputs": [
    {
     "data": {
      "text/plain": [
       "[' 文化大革命如火如荼地进行，天文学家叶文洁在期间历经劫难，被带到军方绝秘计划“红岸工程”。\\n             ',\n",
       " ' 面对地球文明前所未有的危局，人类组建起同样庞大的太空舰队，同时（PDC）利用三体人思维透明的致命缺陷，制订了“面壁计划”。\\n             ',\n",
       " ' 在地球人类接近灭亡之际，只有程心和艾AA两个幸存者乘坐光速飞船离开。她们在冥王星带走人类文明的精华。']"
      ]
     },
     "execution_count": 44,
     "metadata": {},
     "output_type": "execute_result"
    }
   ],
   "source": [
    "import re\n",
    "\n",
    "string2 = \"\"\"第一部 文化大革命如火如荼地进行，天文学家叶文洁在期间历经劫难，被带到军方绝秘计划“红岸工程”。\n",
    "             第二部 面对地球文明前所未有的危局，人类组建起同样庞大的太空舰队，同时（PDC）利用三体人思维透明的致命缺陷，制订了“面壁计划”。\n",
    "             第三部 在地球人类接近灭亡之际，只有程心和艾AA两个幸存者乘坐光速飞船离开。她们在冥王星带走人类文明的精华。\"\"\"\n",
    "\n",
    "#\n",
    "parts = re.split('第[一二三]+部', string2)\n",
    "\n",
    "#剔除空数据\n",
    "parts = [part \n",
    "         for part in parts \n",
    "         if part]\n",
    "parts"
   ]
  },
  {
   "cell_type": "markdown",
   "metadata": {},
   "source": [
    "### re.sub(old, new, text)\n",
    "将text中的old替换为new，返回字符串"
   ]
  },
  {
   "cell_type": "code",
   "execution_count": 42,
   "metadata": {},
   "outputs": [
    {
     "name": "stdout",
     "output_type": "stream",
     "text": [
      "第一部 革命如火如荼地进行  第二部 面对地球文明前所未有的危局。 第三部 在地球人类接近灭亡之际\n"
     ]
    }
   ],
   "source": [
    "import re\n",
    "\n",
    "string4 = \"\"\"第一部 文化大革命如火如荼地进行  第二部 面对地球文明前所未有的危局。 第三部 在地球人类接近灭亡之际\"\"\"\n",
    "#文化大革命  替换为  革命\n",
    "titles = re.sub('文化大革命', '革命', string4)\n",
    "\n",
    "print(titles)"
   ]
  },
  {
   "cell_type": "markdown",
   "metadata": {},
   "source": [
    "# 三、json库\n",
    "Python3 中可以使用 json 模块来对 **JSON 数据（样子像字典类型的字符串）**进行编解码，它包含了两个函数：\n",
    "\n",
    "|json库常用函数|作用|\n",
    "|---|---|\n",
    "|json.dumps()| 将 **python对象数据**编码 为**字符串数据**。|\n",
    "|json.loads()|将**字符串数据**（长得像字典的字符串）解码为 **python对象数据**。|"
   ]
  },
  {
   "cell_type": "code",
   "execution_count": 43,
   "metadata": {},
   "outputs": [
    {
     "name": "stdout",
     "output_type": "stream",
     "text": [
      "<class 'dict'>\n",
      "<class 'str'>\n"
     ]
    }
   ],
   "source": [
    "import json\n",
    " \n",
    "# Python 字典类型转换为 JSON 对象\n",
    "info = {\n",
    "    'name' : 'David',\n",
    "    'gender' : 'male',\n",
    "    'age' : '25'\n",
    "}\n",
    " \n",
    "\n",
    "print(type(info))\n",
    "json_str = json.dumps(info)\n",
    "print(type(json_str))"
   ]
  },
  {
   "cell_type": "code",
   "execution_count": 46,
   "metadata": {},
   "outputs": [
    {
     "name": "stdout",
     "output_type": "stream",
     "text": [
      "<class 'str'>\n",
      "{'name': 'David', 'gender': 'male', 'age': '25'}\n",
      "<class 'dict'>\n"
     ]
    }
   ],
   "source": [
    "import json\n",
    "\n",
    "dict_str = '{\"name\": \"David\", \"gender\": \"male\", \"age\": \"25\"}'\n",
    "\n",
    "\n",
    "print(type(dict_str))\n",
    "data = json.loads(dict_str)\n",
    "print(data)\n",
    "print(type(data))"
   ]
  },
  {
   "cell_type": "markdown",
   "metadata": {},
   "source": [
    "# 四、数据存储\n",
    "一般爬虫数据常常存储于txt和或csv文件中。\n",
    "\n",
    "## 4.1 存储到txt\n",
    "\n",
    "```python\n",
    "txtf = 'data.txt'  \n",
    "\n",
    "#新建一个data.txt文件， 使用追加方式（a+），编码采用utf-8\n",
    "f = open(txtf, 'a+', encoding='utf-8')\n",
    "\n",
    "#采集到的文本数据\n",
    "content = '采集到的文本数据'\n",
    "\n",
    "#将content写入到data.txt中\n",
    "f.write(content)\n",
    "\n",
    "#关闭f\n",
    "f.close()\n",
    "```\n",
    "\n",
    "\n",
    "|**txt与代码文件是否在同一文件夹**|txt文件路径写法|例子|\n",
    "|---|---|---|\n",
    "|是|文件名.txt|'data.txt'|\n",
    "|否|路径/文件名.txt|\"/Users/suosuo/Desktop/data.txt\"|"
   ]
  },
  {
   "cell_type": "code",
   "execution_count": 52,
   "metadata": {},
   "outputs": [],
   "source": [
    "#data.txt 与 代码脚本在同一路径\n",
    "txtf = 'data.txt'  \n",
    "f = open(txtf, 'a+', encoding='utf-8')\n",
    "content = '采集到的文本数据'\n",
    "f.write(content)\n",
    "f.close()"
   ]
  },
  {
   "cell_type": "code",
   "execution_count": 53,
   "metadata": {},
   "outputs": [],
   "source": [
    "#data.txt 与 代码脚本不在同一路径,\n",
    "# 但data文件夹与 代码脚本在同一路径\n",
    "txtf = 'data/data.txt'  \n",
    "f = open(txtf, 'a+', encoding='utf-8')\n",
    "content = '将采集到的文本数据存储在 data/data.txt'\n",
    "f.write(content)\n",
    "f.close()"
   ]
  },
  {
   "cell_type": "markdown",
   "metadata": {},
   "source": [
    "## 4.2 存入csv\n",
    "\n",
    "```python\n",
    "file = 'data.csv'\n",
    "csvf = open(file, 'a+', encoding='gbk', newline = '')\n",
    "writer = csv.writer(csvf)\n",
    "\n",
    "#向csv文件写入数据时候，要求的格式为 元组样式数据\n",
    "writer.writerow('元组类型的数据')\n",
    "\n",
    "csvf.clsoe\n",
    "```"
   ]
  },
  {
   "cell_type": "code",
   "execution_count": 54,
   "metadata": {},
   "outputs": [],
   "source": [
    "import csv \n",
    "\n",
    "file = 'data/data.csv'\n",
    "#使用utf-8编码保存，使用excell打开会显示乱码。这里使用gbk保存\n",
    "csvf = open(file, 'a+', encoding='gbk', newline = '')\n",
    "writer = csv.writer(csvf)\n",
    "\n",
    "#定义data.csv文件的列名\n",
    "writer.writerow(('name', 'gender', 'age'))\n",
    "\n",
    "#写入数据\n",
    "writer.writerow(('David', 'male', '25'))\n",
    "writer.writerow(('Mark', 'male', '23'))\n",
    "\n",
    "#关闭\n",
    "csvf.close()"
   ]
  },
  {
   "cell_type": "code",
   "execution_count": 55,
   "metadata": {},
   "outputs": [],
   "source": [
    "import csv\n",
    "\n",
    "#采集到的数据以列表和元组形式组合\n",
    "datas = [('David', 'male', '25'),\n",
    "        ('Mark', 'male', '23'),\n",
    "        ('Mary', 'female', '18')]\n",
    "\n",
    "csvf = open('data/data2.csv', 'a+', encoding='gbk', newline='')\n",
    "writer = csv.writer(csvf)\n",
    "#定义列名时要在for循环之外\n",
    "writer.writerow(('name', 'gender', 'age'))\n",
    "\n",
    "for data in datas:\n",
    "    #写入csv数据时，要在for循环内\n",
    "    writer.writerow(data)\n",
    "\n",
    "#关闭要在for循环外\n",
    "csvf.close()"
   ]
  },
  {
   "cell_type": "markdown",
   "metadata": {},
   "source": [
    "# [下一节：05-爬虫实战.ipynb](05-爬虫实战.ipynb)"
   ]
  },
  {
   "cell_type": "code",
   "execution_count": null,
   "metadata": {},
   "outputs": [],
   "source": []
  }
 ],
 "metadata": {
  "kernelspec": {
   "display_name": "Python 3",
   "language": "python",
   "name": "python3"
  },
  "language_info": {
   "codemirror_mode": {
    "name": "ipython",
    "version": 3
   },
   "file_extension": ".py",
   "mimetype": "text/x-python",
   "name": "python",
   "nbconvert_exporter": "python",
   "pygments_lexer": "ipython3",
   "version": "3.7.4"
  }
 },
 "nbformat": 4,
 "nbformat_minor": 2
}
